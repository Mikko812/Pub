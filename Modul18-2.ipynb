{
 "cells": [
  {
   "cell_type": "code",
   "execution_count": null,
   "metadata": {},
   "outputs": [],
   "source": [
    "#Имеется текстовый файл 'sample text.txt', состоящий из нескольких строк. В строках использованы только буквы, пробелы, точки, запятые и дефисы для составных слов. \n",
    "#ЗАДАНИЕ: \n",
    "#1. Удалить все символы, кроме букв, пробелов и дефисов.\n",
    "#2. Удалить все слова длиной менее 3-х символов.\n",
    "#3. Для каждой строки подсчитать количество слов и найти слово(-а) с наибольшим количеств символов.\n",
    "#Вывести информацию по каждой строке.\n",
    "\n",
    "def string_counter(s):\n",
    "    s = s.replace('.', '').replace(',', '')[:-1]\n",
    "    lst = s.split(' ')\n",
    "    lst = list(filter(lambda x: len(x) > 2, lst))\n",
    "    max_len = max(list(map(len, lst)))\n",
    "    max_len_words = []\n",
    "    for word in lst:\n",
    "        if len(word) == max_len:\n",
    "            max_len_words.append(word)\n",
    "    if len(max_len_words) > 1:\n",
    "        return len(lst), ', '.join(max_len_words)[:-2]\n",
    "    return len(lst), max_len_words[0]\n",
    "    \n",
    "with open('sample text.txt') as f:\n",
    "    strings = f.readlines()\n",
    "for i, line in enumerate(strings):\n",
    "    count, words_list = string_counter(line)\n",
    "    print(f'В строке {i+1} - {count} слов. Самые длинные слова: {words_list}')"
   ]
  }
 ],
 "metadata": {
  "kernelspec": {
   "display_name": "Python 3",
   "language": "python",
   "name": "python3"
  },
  "language_info": {
   "codemirror_mode": {
    "name": "ipython",
    "version": 3
   },
   "file_extension": ".py",
   "mimetype": "text/x-python",
   "name": "python",
   "nbconvert_exporter": "python",
   "pygments_lexer": "ipython3",
   "version": "3.7.7"
  }
 },
 "nbformat": 4,
 "nbformat_minor": 4
}
