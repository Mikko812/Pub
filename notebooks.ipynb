{
  "nbformat": 4,
  "nbformat_minor": 0,
  "metadata": {
    "colab": {
      "name": "notebooks.ipynb",
      "provenance": [],
      "collapsed_sections": [],
      "authorship_tag": "ABX9TyM0Ceiqy02a85ZwAkgGy3Zy",
      "include_colab_link": true
    },
    "kernelspec": {
      "name": "python3",
      "display_name": "Python 3"
    }
  },
  "cells": [
    {
      "cell_type": "markdown",
      "metadata": {
        "id": "view-in-github",
        "colab_type": "text"
      },
      "source": [
        "<a href=\"https://colab.research.google.com/github/Mikko812/Pub/blob/master/notebooks.ipynb\" target=\"_parent\"><img src=\"https://colab.research.google.com/assets/colab-badge.svg\" alt=\"Open In Colab\"/></a>"
      ]
    },
    {
      "cell_type": "markdown",
      "metadata": {
        "id": "ZQz_SrDui2Rr"
      },
      "source": [
        "<div align=\"center\">\n",
        "<h1>\n",
        "<a href='https://colab.research.google.com/drive/1oylnuX5KgtHfcX6v-LDDeMu15KawSh-K#scrollTo=vV5N-Euqio3m&line=1&uniqifier=1'>AllResult</a></h1>\n",
        "\n",
        "<h1><a href='https://colab.research.google.com/drive/1TOk0RDI9N-AimcioGkMmJSre8Ab0rM5V#scrollTo=NZhIxFWUlhtp&line=1&uniqifier=1'>FreePicks</a></h1>\n",
        "\n",
        "<h1>\n",
        "<a href='https://colab.research.google.com/drive/1YlRu54fngXhrmHEpOKPvucxIyFJ6Dhb0#scrollTo=SB2yTBVFrIbA&line=1&uniqifier=1'>CoversExperts</a></h1>\n",
        "\n",
        "<h1>\n",
        "<a href='https://colab.research.google.com/drive/1jL_QFtyy8nWKEoV2GUeos5nrISpJy2Bm#scrollTo=CVuhwIUOBwkZ&line=2&uniqifier=1'>MLB. RESULTS</a></h1>\n",
        "\n",
        "<h1>\n",
        "<a href='https://colab.research.google.com/drive/1Vc8v3zvvUeyJH_Y3kC1hcU5MPH0vd2Bo#scrollTo=CVuhwIUOBwkZ&line=1&uniqifier=1'>MLB. STATS</a></h1>\n",
        "\n",
        "<h1>\n",
        "<a href='https://colab.research.google.com/drive/1-Kv4g1wLTA4tb0ua09xiIsJ22Xcqj71f#scrollTo=0AZxp19WfJTv&line=2&uniqifier=1'>CoversLeaders</a></h1>\n",
        "\n",
        "<h1>\n",
        "<a href='https://colab.research.google.com/drive/1IbjCU6PoNqGoNqVhfHjqQx6pD5Nb6Fhl#scrollTo=0AZxp19WfJTv&line=2&uniqifier=1'>StreakSurvivor</a></h1>\n",
        "\n",
        "<h1>\n",
        "<a href='https://colab.research.google.com/drive/1LsVmQKxcQuoZ4lbhmceqN131NtbIuHSx#scrollTo=y7QztBIVR1tb&line=2&uniqifier=1'>NFL</a></h1>\n",
        "\n",
        "<h1>\n",
        "<a href='https://colab.research.google.com/drive/15uTJHNCJwBqGz1SOjubncDJc6zh9uMLq#scrollTo=CVuhwIUOBwkZ&line=4&uniqifier=1'>NPB</a></h1>\n",
        "\n",
        "<h1>\n",
        "<a href='https://colab.research.google.com/drive/1bK-Wxav_6M1dLZ-kqWSsSp6RR1GmC91f#scrollTo=CVuhwIUOBwkZ&line=3&uniqifier=1'>KBO</a></h1>\n",
        "\n",
        "</div>"
      ]
    }
  ]
}