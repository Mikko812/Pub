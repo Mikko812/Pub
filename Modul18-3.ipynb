{
 "cells": [
  {
   "cell_type": "code",
   "execution_count": null,
   "metadata": {},
   "outputs": [],
   "source": [
    "#Есть файл 'Pairwise.xlsx' различных сочетаний значений параметров для формирования запросов в Postman. Названия колонок - название параметров в запросах.\n",
    "#ЗАДАНИЕ.\n",
    "#Сформировать строки запросов для каждой строки исходной таблицы. Не забыть поменять кириллицу на utf-8.\n",
    "#Создать json-файл со сгенерированными строками запросов.\n",
    "\n",
    "def MakeRequest(row):\n",
    "    params = '?page=1&page_size=6'\n",
    "    row = row.to_list()\n",
    "    ret = list(map(lambda x: cols[x] + '=' + str(row[x]) if row[x] != 'None' else '', [0,1,2,3]))\n",
    "    ret = '&'.join([params] + ret).replace('&&&','&').replace('&&','&')\n",
    "    return ret\n",
    "\n",
    "pairs = pd.read_excel('Pairwise.xlsx')\n",
    "cols = pairs.columns\n",
    "pairs['species__name'] = list(map(lambda x: str(x.encode('utf-8'))[2:-1].replace('\\\\x', '%').upper(), pairs['species__name']))\n",
    "  \n",
    "reqs = pairs.apply(MakeRequest,axis=1)\n",
    "reqs = reqs.to_list()\n",
    "display(reqs)\n",
    "with open('requests.json','w') as f:\n",
    "    json.dump(reqs,f)"
   ]
  }
 ],
 "metadata": {
  "kernelspec": {
   "display_name": "Python 3",
   "language": "python",
   "name": "python3"
  },
  "language_info": {
   "codemirror_mode": {
    "name": "ipython",
    "version": 3
   },
   "file_extension": ".py",
   "mimetype": "text/x-python",
   "name": "python",
   "nbconvert_exporter": "python",
   "pygments_lexer": "ipython3",
   "version": "3.7.7"
  }
 },
 "nbformat": 4,
 "nbformat_minor": 4
}
