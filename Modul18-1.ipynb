{
 "cells": [
  {
   "cell_type": "code",
   "execution_count": null,
   "metadata": {},
   "outputs": [],
   "source": [
    "#Имеется файл в формате json с размерами (длина, ширина) помещений. \n",
    "#Формат файла: {'номер квартиры' : {'комната1' : 'размер1; размер2', 'комната2' : 'размер1; размер2', ...}}. Имя файла - 'dom.json'\n",
    "#Размеры разделены ';', для нецелых значений используются '.' и ','.\n",
    "\n",
    "#ЗАДАНИЕ: Вывести номер квартиры и площади каждого помещения.\n",
    "\n",
    "class Flat:\n",
    "    def __init__(self, length, width):\n",
    "        self.length = length\n",
    "        self.width = width\n",
    "        \n",
    "    def getSquare(self):\n",
    "        return self.length*self.width\n",
    "\n",
    "with open('dom.json') as d:\n",
    "    dom = json.load(d)\n",
    "for nomer, flat in dom.items():\n",
    "    print(f'Квартира {nomer}.')\n",
    "    for room, size in flat.items():\n",
    "        dims = size.replace(',', '.').split(';')\n",
    "        f1 = Flat(float(dims[0]), float(dims[1]))\n",
    "        print(f'{room}: {round(f1.getSquare(), 2)}')\n",
    "    print()"
   ]
  }
 ],
 "metadata": {
  "kernelspec": {
   "display_name": "Python 3",
   "language": "python",
   "name": "python3"
  },
  "language_info": {
   "codemirror_mode": {
    "name": "ipython",
    "version": 3
   },
   "file_extension": ".py",
   "mimetype": "text/x-python",
   "name": "python",
   "nbconvert_exporter": "python",
   "pygments_lexer": "ipython3",
   "version": "3.7.7"
  }
 },
 "nbformat": 4,
 "nbformat_minor": 4
}
